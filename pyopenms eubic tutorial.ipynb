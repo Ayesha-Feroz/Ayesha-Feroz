{
  "nbformat": 4,
  "nbformat_minor": 0,
  "metadata": {
    "colab": {
      "provenance": [],
      "authorship_tag": "ABX9TyOVCEO+QJXtOgeNE9uhEYNh",
      "include_colab_link": true
    },
    "kernelspec": {
      "name": "python3",
      "display_name": "Python 3"
    },
    "language_info": {
      "name": "python"
    }
  },
  "cells": [
    {
      "cell_type": "markdown",
      "metadata": {
        "id": "view-in-github",
        "colab_type": "text"
      },
      "source": [
        "<a href=\"https://colab.research.google.com/github/Ayesha-Feroz/Ayesha-Feroz/blob/main/pyopenms%20eubic%20tutorial.ipynb\" target=\"_parent\"><img src=\"https://colab.research.google.com/assets/colab-badge.svg\" alt=\"Open In Colab\"/></a>"
      ]
    },
    {
      "cell_type": "code",
      "execution_count": null,
      "metadata": {
        "id": "E7z_FeQJedRc"
      },
      "outputs": [],
      "source": [
        "## To install pyOpenMS go to https://colab.google/ and then New Notebook and then run this command on the cell.\n",
        "pip install pyopenms"
      ]
    },
    {
      "cell_type": "code",
      "source": [
        "##TASK01 SPECTRA AND PEAKS\n",
        "##Go to https://pyopenms.readthedocs.io/en/latest/user_guide/ms_data.html\n",
        "## Try to generate 10 random intensities and 10 random M/Z’s. Add them to a spectrum. Print them using getMZ() and getIntensity().\n",
        "## Run sortByPosition() and print them again\n",
        "import pyopenms as oms\n",
        "\n",
        "spectrum = oms.MSSpectrum()\n",
        "mz = range(500, 1500, 100)\n",
        "i = [1 for mass in mz]\n",
        "spectrum.set_peaks([mz, i])\n",
        "\n",
        "# Sort the peaks according to ascending mass-to-charge ratio\n",
        "spectrum.sortByPosition()\n",
        "\n",
        "# Iterate over spectrum of those peaks\n",
        "for p in spectrum:\n",
        "    print(p.getMZ(), p.getIntensity())\n",
        "\n",
        "# Access a peak by index\n",
        "print(\"\\nFirst peak: \", spectrum[0].getMZ(), spectrum[0].getIntensity())"
      ],
      "metadata": {
        "colab": {
          "base_uri": "https://localhost:8080/",
          "height": 0
        },
        "id": "z7KrK54kMydh",
        "outputId": "3bafa602-0445-4fa1-9f40-bb6fb1414c76"
      },
      "execution_count": 14,
      "outputs": [
        {
          "output_type": "stream",
          "name": "stdout",
          "text": [
            "500.0 1.0\n",
            "600.0 1.0\n",
            "700.0 1.0\n",
            "800.0 1.0\n",
            "900.0 1.0\n",
            "1000.0 1.0\n",
            "1100.0 1.0\n",
            "1200.0 1.0\n",
            "1300.0 1.0\n",
            "1400.0 1.0\n",
            "\n",
            "First peak:  500.0 1.0\n"
          ]
        }
      ]
    },
    {
      "cell_type": "code",
      "source": [
        "# See how we can set properties in a mass spectrum\n",
        "spectrum = oms.MSSpectrum()\n",
        "spectrum.setDriftTime(25)  # 25 ms\n",
        "spectrum.setRT(205.2)  # 205.2 s\n",
        "spectrum.setMSLevel(3)  # MS3\n",
        "\n",
        "# Add peak(s) to spectrum\n",
        "spectrum.set_peaks(([401.5], [900]))\n",
        "\n",
        "# create precursor information\n",
        "p = oms.Precursor()\n",
        "p.setMZ(600)  # isolation at 600 +/- 1.5 Th\n",
        "p.setIsolationWindowLowerOffset(1.5)\n",
        "p.setIsolationWindowUpperOffset(1.5)\n",
        "p.setActivationEnergy(40)  # 40 eV\n",
        "p.setCharge(4)  # 4+ ion\n",
        "\n",
        "# and store precursor in spectrum\n",
        "spectrum.setPrecursors([p])\n",
        "\n",
        "# set additional instrument settings (e.g. scan polarity)\n",
        "IS = oms.InstrumentSettings()\n",
        "IS.setPolarity(oms.IonSource.Polarity.POSITIVE)\n",
        "spectrum.setInstrumentSettings(IS)\n",
        "\n",
        "# get and check scan polarity\n",
        "polarity = spectrum.getInstrumentSettings().getPolarity()\n",
        "if polarity == oms.IonSource.Polarity.POSITIVE:\n",
        "    print(\"scan polarity: positive\")\n",
        "elif polarity == oms.IonSource.Polarity.NEGATIVE:\n",
        "    print(\"scan polarity: negative\")\n",
        "\n",
        "# Optional: additional data arrays / peak annotations\n",
        "fda = oms.FloatDataArray()\n",
        "fda.setName(\"Signal to Noise Array\")\n",
        "fda.push_back(15)\n",
        "sda = oms.StringDataArray()\n",
        "sda.setName(\"Peak annotation\")\n",
        "sda.push_back(\"y15++\")\n",
        "spectrum.setFloatDataArrays([fda])\n",
        "spectrum.setStringDataArrays([sda])\n",
        "\n",
        "# Add spectrum to MSExperiment\n",
        "exp = oms.MSExperiment()\n",
        "exp.addSpectrum(spectrum)\n",
        "\n",
        "# Add second spectrum to the MSExperiment\n",
        "spectrum2 = oms.MSSpectrum()\n",
        "spectrum2.set_peaks(([1, 2], [1, 2]))\n",
        "exp.addSpectrum(spectrum2)\n",
        "\n",
        "# store spectra in mzML file\n",
        "oms.MzMLFile().store(\"testfile.mzML\", exp)"
      ],
      "metadata": {
        "colab": {
          "base_uri": "https://localhost:8080/",
          "height": 0
        },
        "id": "OSL5UkWyOl3E",
        "outputId": "aa4e0760-494d-4506-831e-2b5d02f58435"
      },
      "execution_count": 12,
      "outputs": [
        {
          "output_type": "stream",
          "name": "stdout",
          "text": [
            "scan polarity: positive\n"
          ]
        }
      ]
    },
    {
      "cell_type": "code",
      "source": [
        "##TASK 02 MASS CALCULATION\n",
        "##Go to https://pyopenms.readthedocs.io/en/latest/user_guide/peptides_proteins.html\n",
        "## Calculate peptide mass (directly or from the formula)\n",
        "##Uncharged masses, charged masses\n",
        "\n",
        "import pyopenms as oms\n",
        "\n",
        "seq = oms.AASequence.fromString(\n",
        "    \"DFPIANGER\"\n",
        ")  # create AASequence object from string representation\n",
        "prefix = seq.getPrefix(4)  # extract prefix of length 4\n",
        "suffix = seq.getSuffix(5)  # extract suffix of length 5\n",
        "concat = seq + seq  # concatenate two sequences\n",
        "\n",
        "# print string representation of sequences\n",
        "print(\"Sequence:\", seq)\n",
        "print(\"Prefix:\", prefix)\n",
        "print(\"Suffix:\", suffix)\n",
        "print(\"Concatenated:\", concat)\n",
        "\n",
        "# some mass calculations\n",
        "mfull = seq.getMonoWeight()  # weight of M\n",
        "mprecursor = seq.getMonoWeight(oms.Residue.ResidueType.Full, 2)  # weight of M+2H\n",
        "\n",
        "# we can calculate mass-over-charge manually\n",
        "mz = seq.getMonoWeight(oms.Residue.ResidueType.Full, 2) / 2.0  # m/z of [M+2H]2+\n",
        "# or simply by:\n",
        "mz = seq.getMZ(2)  # same as above\n",
        "\n",
        "print()\n",
        "print(\"Monoisotopic mass of peptide [M] is\", mfull)\n",
        "print(\"Monoisotopic mass of peptide precursor [M+2H]2+ is\", mprecursor)\n",
        "print(\"Monoisotopic m/z of [M+2H]2+ is\", mz)"
      ],
      "metadata": {
        "colab": {
          "base_uri": "https://localhost:8080/",
          "height": 0
        },
        "id": "zQRM6QezX3jL",
        "outputId": "66273900-ca3b-480f-9245-ae251d45af74"
      },
      "execution_count": 15,
      "outputs": [
        {
          "output_type": "stream",
          "name": "stdout",
          "text": [
            "Sequence: DFPIANGER\n",
            "Prefix: DFPI\n",
            "Suffix: ANGER\n",
            "Concatenated: DFPIANGERDFPIANGER\n",
            "\n",
            "Monoisotopic mass of peptide [M] is 1017.4879641373001\n",
            "Monoisotopic mass of peptide precursor [M+2H]2+ is 1019.5025170708419\n",
            "Monoisotopic m/z of [M+2H]2+ is 509.75125853542096\n"
          ]
        }
      ]
    },
    {
      "cell_type": "code",
      "source": [
        "##Amino acids information from a peptide sequence\n",
        "seq = oms.AASequence.fromString(\"DFPIANGER\")\n",
        "\n",
        "print(\"The peptide\", str(seq), \"consists of the following amino acids:\")\n",
        "for aa in seq:\n",
        "    print(aa.getName(), \":\", aa.getMonoWeight())"
      ],
      "metadata": {
        "colab": {
          "base_uri": "https://localhost:8080/",
          "height": 0
        },
        "id": "BBUQcIcUYZ6U",
        "outputId": "0fab6935-96ae-4899-e617-b9e99559968f"
      },
      "execution_count": 16,
      "outputs": [
        {
          "output_type": "stream",
          "name": "stdout",
          "text": [
            "The peptide DFPIANGER consists of the following amino acids:\n",
            "Aspartate : 133.0375092233\n",
            "Phenylalanine : 165.0789793509\n",
            "Proline : 115.06332928709999\n",
            "Isoleucine : 131.0946294147\n",
            "Alanine : 89.0476792233\n",
            "Asparagine : 132.0534932552\n",
            "Glycine : 75.0320291595\n",
            "Glutamate : 147.0531592871\n",
            "Arginine : 174.1116764466\n"
          ]
        }
      ]
    },
    {
      "cell_type": "code",
      "source": [
        "#Calculate the molecular formula from a sequence\n",
        "seq = oms.AASequence.fromString(\"DFPIANGER\")\n",
        "seq_formula = seq.getFormula()\n",
        "print(\"Peptide\", seq, \"has molecular formula\", seq_formula)"
      ],
      "metadata": {
        "colab": {
          "base_uri": "https://localhost:8080/",
          "height": 0
        },
        "id": "uSdrOAN0ZA2O",
        "outputId": "e31571ec-1609-4c13-ef07-caf10d65e704"
      },
      "execution_count": 21,
      "outputs": [
        {
          "output_type": "stream",
          "name": "stdout",
          "text": [
            "Peptide DFPIANGER has molecular formula C44H67N13O15\n"
          ]
        }
      ]
    },
    {
      "cell_type": "code",
      "source": [
        "##print the coarse (e.g., peaks only at nominal masses) distribution.\n",
        "coarse_isotopes = seq_formula.getIsotopeDistribution(\n",
        "    oms.CoarseIsotopePatternGenerator(6)\n",
        ")\n",
        "for iso in coarse_isotopes.getContainer():\n",
        "    print(\n",
        "        \"Isotope\", iso.getMZ(), \"has abundance\", iso.getIntensity() * 100, \"%\"\n",
        "    )"
      ],
      "metadata": {
        "colab": {
          "base_uri": "https://localhost:8080/",
          "height": 0
        },
        "id": "FUo-qaiUaSnI",
        "outputId": "a66b1d8a-3b39-4fc8-e5af-5406f218f78a"
      },
      "execution_count": 22,
      "outputs": [
        {
          "output_type": "stream",
          "name": "stdout",
          "text": [
            "Isotope 1017.4879641373001 has abundance 56.8165123462677 %\n",
            "Isotope 1018.4913189751001 has abundance 30.52913248538971 %\n",
            "Isotope 1019.4946738129 has abundance 9.802105277776718 %\n",
            "Isotope 1020.4980286507001 has abundance 2.3292064666748047 %\n",
            "Isotope 1021.5013834885001 has abundance 0.4492596723139286 %\n",
            "Isotope 1022.5047383263001 has abundance 0.07378293084912002 %\n"
          ]
        }
      ]
    },
    {
      "cell_type": "code",
      "source": [
        "# print fine structure of isotope distribution (used for high resolution to reveal additional peaks)\n",
        "fine_isotopes = seq_formula.getIsotopeDistribution(\n",
        "    oms.FineIsotopePatternGenerator(0.01)\n",
        ")  # max 0.01 unexplained probability\n",
        "for iso in fine_isotopes.getContainer():\n",
        "    print(\n",
        "        \"Isotope\", iso.getMZ(), \"has abundance\", iso.getIntensity() * 100, \"%\"\n",
        "    )"
      ],
      "metadata": {
        "colab": {
          "base_uri": "https://localhost:8080/",
          "height": 0
        },
        "id": "Ja2Mk3Kp17bW",
        "outputId": "4c04cc6f-7923-42c1-cdd9-fc9a5bbd6683"
      },
      "execution_count": 23,
      "outputs": [
        {
          "output_type": "stream",
          "name": "stdout",
          "text": [
            "Isotope 1017.4879641373001 has abundance 56.80969953536987 %\n",
            "Isotope 1018.4849991373001 has abundance 2.7278145775198936 %\n",
            "Isotope 1018.4913191373001 has abundance 27.035287022590637 %\n",
            "Isotope 1018.4921811373001 has abundance 0.3246041014790535 %\n",
            "Isotope 1018.4942408854 has abundance 0.4377691075205803 %\n",
            "Isotope 1019.4883541373001 has abundance 1.2981452979147434 %\n",
            "Isotope 1019.4922181373001 has abundance 1.7511537298560143 %\n",
            "Isotope 1019.4946741373 has abundance 6.286735832691193 %\n",
            "Isotope 1019.4975958854001 has abundance 0.2083308296278119 %\n",
            "Isotope 1020.4917091373001 has abundance 0.3018683288246393 %\n",
            "Isotope 1020.4955731373002 has abundance 0.833360105752945 %\n",
            "Isotope 1020.4980291373 has abundance 0.9519387967884541 %\n",
            "Isotope 1021.4989281373 has abundance 0.1937880413606763 %\n"
          ]
        }
      ]
    },
    {
      "cell_type": "code",
      "source": [
        "##Now we can also visually see the isotope distribution of coarse and fine.\n",
        "import math\n",
        "from matplotlib import pyplot as plt\n",
        "\n",
        "\n",
        "def plotIsotopeDistribution(isotope_distribution, title=\"Isotope distribution\"):\n",
        "    plt.title(title)\n",
        "    distribution = {\"mass\": [], \"abundance\": []}\n",
        "    for iso in isotope_distribution.getContainer():\n",
        "        distribution[\"mass\"].append(iso.getMZ())\n",
        "        distribution[\"abundance\"].append(iso.getIntensity() * 100)\n",
        "\n",
        "    bars = plt.bar(\n",
        "        distribution[\"mass\"], distribution[\"abundance\"], width=0.01, snap=False\n",
        "    )  # snap ensures that all bars are rendered\n",
        "\n",
        "    plt.ylim([0, 110])\n",
        "    plt.xticks(\n",
        "        range(\n",
        "            math.ceil(distribution[\"mass\"][0]) - 2,\n",
        "            math.ceil(distribution[\"mass\"][-1]) + 2,\n",
        "        )\n",
        "    )\n",
        "    plt.xlabel(\"Atomic mass (u)\")\n",
        "    plt.ylabel(\"Relative abundance (%)\")\n",
        "\n",
        "\n",
        "plt.figure(figsize=(10, 7))\n",
        "plt.subplot(1, 2, 1)\n",
        "plotIsotopeDistribution(coarse_isotopes, \"Isotope distribution - coarse\")\n",
        "plt.subplot(1, 2, 2)\n",
        "plotIsotopeDistribution(fine_isotopes, \"Isotope distribution - fine structure\")\n",
        "plt.show()"
      ],
      "metadata": {
        "colab": {
          "base_uri": "https://localhost:8080/",
          "height": 641
        },
        "id": "rlGmYX7u3MS7",
        "outputId": "9b322f74-585a-45bc-e889-6d4850ed4713"
      },
      "execution_count": 24,
      "outputs": [
        {
          "output_type": "display_data",
          "data": {
            "text/plain": [
              "<Figure size 1000x700 with 2 Axes>"
            ],
            "image/png": "[encoded data removed]"
          },
          "metadata": {}
        }
      ]
    },
    {
      "cell_type": "code",
      "source": [
        "## TASK 3 Spectrum Normalization\n",
        "##Go to https://pyopenms.readthedocs.io/en/latest/user_guide/spectrum_normalization.html\n",
        "##  load a spectrum from an mzML file using the pyOpenMS library\n",
        "from urllib.request import urlretrieve\n",
        "import pyopenms as oms\n",
        "import matplotlib.pyplot as plt\n",
        "\n",
        "gh = \"https://raw.githubusercontent.com/OpenMS/pyopenms-docs/master\"\n",
        "urlretrieve(gh + \"/src/data/peakpicker_tutorial_1_baseline_filtered.mzML\", \"tutorial.mzML\")\n",
        "\n",
        "exp = oms.MSExperiment()\n",
        "oms.MzMLFile().load(\"tutorial.mzML\", exp)\n",
        "\n",
        "plt.bar(exp.getSpectrum(0).get_peaks()[0], exp.getSpectrum(0).get_peaks()[1], snap=False)\n",
        "plt.show()"
      ],
      "metadata": {
        "colab": {
          "base_uri": "https://localhost:8080/",
          "height": 430
        },
        "id": "hFPdJL5Z4y87",
        "outputId": "7b67b780-0ff3-42be-ad9e-537a5e2b80c1"
      },
      "execution_count": 25,
      "outputs": [
        {
          "output_type": "display_data",
          "data": {
            "text/plain": [
              "<Figure size 640x480 with 1 Axes>"
            ],
            "image/png": "[encoded data removed]"
          },
          "metadata": {}
        }
      ]
    },
    {
      "cell_type": "code",
      "source": [
        "## Normalization Procedure\n",
        "## After loading the data, the next step is to apply normalization.\n",
        "normalizer = oms.Normalizer()\n",
        "param = normalizer.getParameters()\n",
        "param.setValue(\"method\", \"to_one\")\n",
        "normalizer.setParameters(param)\n",
        "\n",
        "normalizer.filterPeakMap(exp)\n",
        "plt.bar(exp.getSpectrum(0).get_peaks()[0], exp.getSpectrum(0).get_peaks()[1], snap=False)\n",
        "plt.show()"
      ],
      "metadata": {
        "colab": {
          "base_uri": "https://localhost:8080/",
          "height": 430
        },
        "id": "gD4MD29q5wEy",
        "outputId": "67dbad8c-671e-441b-f0e6-a0de96dcb2fc"
      },
      "execution_count": 27,
      "outputs": [
        {
          "output_type": "display_data",
          "data": {
            "text/plain": [
              "<Figure size 640x480 with 1 Axes>"
            ],
            "image/png": "[encoded data removed]"
          },
          "metadata": {}
        }
      ]
    },
    {
      "cell_type": "code",
      "source": [
        "##Another approach to normalization is using the Total Ion Count (TIC).\n",
        "##This method adjusts the intensities so that their total sum equals 1.0 in each mass spectrum.\n",
        "param.setValue(\"method\", \"to_TIC\")\n",
        "normalizer.setParameters(param)\n",
        "normalizer.filterPeakMap(exp)\n",
        "plt.bar(exp.getSpectrum(0).get_peaks()[0], exp.getSpectrum(0).get_peaks()[1], snap=False)\n",
        "plt.show()\n"
      ],
      "metadata": {
        "colab": {
          "base_uri": "https://localhost:8080/",
          "height": 430
        },
        "id": "ELgvDvPp6Ljk",
        "outputId": "ce280ec1-c0d7-4f54-f952-e179dd36a2a3"
      },
      "execution_count": 28,
      "outputs": [
        {
          "output_type": "display_data",
          "data": {
            "text/plain": [
              "<Figure size 640x480 with 1 Axes>"
            ],
            "image/png": "[encoded data removed]"
          },
          "metadata": {}
        }
      ]
    },
    {
      "cell_type": "code",
      "source": [
        "## TASK 4 Centroiding\n",
        "##Go to https://pyopenms.readthedocs.io/en/latest/user_guide/centroiding.html\n",
        "## First, we load some profile data\n",
        "from urllib.request import urlretrieve\n",
        "import pyopenms as oms\n",
        "import matplotlib.pyplot as plt\n",
        "\n",
        "gh = \"https://raw.githubusercontent.com/OpenMS/pyopenms-docs/master\"\n",
        "urlretrieve(gh + \"/src/data/PeakPickerHiRes_input.mzML\", \"tutorial.mzML\")\n",
        "\n",
        "profile_spectra = oms.MSExperiment()\n",
        "oms.MzMLFile().load(\"tutorial.mzML\", profile_spectra)"
      ],
      "metadata": {
        "id": "qE1Tym-k6oYl"
      },
      "execution_count": 29,
      "outputs": []
    },
    {
      "cell_type": "code",
      "source": [
        "##Let’s zoom in on an isotopic pattern in profile mode and plot it.\n",
        "plt.xlim(771.8, 774)  # zoom into isotopic pattern\n",
        "plt.plot(\n",
        "    profile_spectra[0].get_peaks()[0], profile_spectra[0].get_peaks()[1]\n",
        ")  # plot the first spectrum"
      ],
      "metadata": {
        "colab": {
          "base_uri": "https://localhost:8080/",
          "height": 463
        },
        "id": "njeigZz97DRZ",
        "outputId": "1c6df8f9-cfdd-416d-a32b-22874d94ce28"
      },
      "execution_count": 30,
      "outputs": [
        {
          "output_type": "execute_result",
          "data": {
            "text/plain": [
              "[<matplotlib.lines.Line2D at 0x792825ab2d40>]"
            ]
          },
          "metadata": {},
          "execution_count": 30
        },
        {
          "output_type": "display_data",
          "data": {
            "text/plain": [
              "<Figure size 640x480 with 1 Axes>"
            ],
            "image/png": "[encoded data removed]"
          },
          "metadata": {}
        }
      ]
    },
    {
      "cell_type": "code",
      "source": [
        "##Because of the limited resolution of MS instruments m/z measurements are not of unlimited precision.\n",
        "##Consequently, peak shapes spreads in the m/z dimension and resemble a gaussian distribution.\n",
        "##Using the PeakPickerHiRes algorithm, we can convert data from profile to centroided mode.\n",
        "##Usually, not much information is lost by storing only centroided data.\n",
        "##Thus, many algorithms and tools assume that centroided data is provided.\n",
        "centroided_spectra = oms.MSExperiment()\n",
        "\n",
        "# input, output, chec_spectrum_type (if set, checks spectrum type and throws an exception if a centroided spectrum is passed)\n",
        "oms.PeakPickerHiRes().pickExperiment(\n",
        "    profile_spectra, centroided_spectra, True\n",
        ")  # pick all spectra\n",
        "\n",
        "plt.xlim(771.8, 774)  # zoom into isotopic pattern\n",
        "plt.stem(\n",
        "    centroided_spectra[0].get_peaks()[0], centroided_spectra[0].get_peaks()[1]\n",
        ")  # plot as vertical lines"
      ],
      "metadata": {
        "colab": {
          "base_uri": "https://localhost:8080/",
          "height": 463
        },
        "id": "ljEYyXHm7PP0",
        "outputId": "d1e8ee20-f5e4-4c6b-a2e9-f51605363c68"
      },
      "execution_count": 31,
      "outputs": [
        {
          "output_type": "execute_result",
          "data": {
            "text/plain": [
              "<StemContainer object of 3 artists>"
            ]
          },
          "metadata": {},
          "execution_count": 31
        },
        {
          "output_type": "display_data",
          "data": {
            "text/plain": [
              "<Figure size 640x480 with 1 Axes>"
            ],
            "image/png": "[encoded data removed]"
          },
          "metadata": {}
        }
      ]
    },
    {
      "cell_type": "code",
      "source": [
        "##TASK 5 FRAGMENT SPECTRUM GENERATION\n",
        "##Go to https://pyopenms.readthedocs.io/en/latest/user_guide/fragment_spectrum_generation.html\n",
        "##First, we will generate a simple mass spectrum that only contains y-ions\n",
        "import pyopenms as oms\n",
        "\n",
        "tsg = oms.TheoreticalSpectrumGenerator()\n",
        "spec1 = oms.MSSpectrum()\n",
        "peptide = oms.AASequence.fromString(\"DFPIANGER\")\n",
        "# standard behavior is adding b- and y-ions of charge 1\n",
        "p = oms.Param()\n",
        "p.setValue(\"add_b_ions\", \"false\")\n",
        "p.setValue(\"add_metainfo\", \"true\")\n",
        "tsg.setParameters(p)\n",
        "tsg.getSpectrum(spec1, peptide, 1, 1)  # charge range 1:1\n",
        "\n",
        "# Iterate over annotated ions and their masses\n",
        "print(\"Spectrum 1 of\", peptide, \"has\", spec1.size(), \"peaks.\")\n",
        "for ion, peak in zip(spec1.getStringDataArrays()[0], spec1):\n",
        "    print(ion.decode(), \"is generated at m/z\", peak.getMZ())\n",
        "\n"
      ],
      "metadata": {
        "colab": {
          "base_uri": "https://localhost:8080/",
          "height": 0
        },
        "id": "0rmg-sxF7lDs",
        "outputId": "2ed23da7-75b1-428c-cf80-0f988611295d"
      },
      "execution_count": 33,
      "outputs": [
        {
          "output_type": "stream",
          "name": "stdout",
          "text": [
            "Spectrum 1 of DFPIANGER has 8 peaks.\n",
            "y1+ is generated at m/z 175.118952913371\n",
            "y2+ is generated at m/z 304.161547136671\n",
            "y3+ is generated at m/z 361.18301123237103\n",
            "y4+ is generated at m/z 475.225939423771\n",
            "y5+ is generated at m/z 546.2630535832709\n",
            "y6+ is generated at m/z 659.3471179341709\n",
            "y7+ is generated at m/z 756.3998821574709\n",
            "y8+ is generated at m/z 903.4682964445708\n"
          ]
        }
      ]
    },
    {
      "cell_type": "code",
      "source": [
        "##Plotting anotted ions\n",
        "import matplotlib.pyplot as plt\n",
        "from pyopenms.plotting import plot_spectrum\n",
        "import matplotlib.pyplot as plt\n",
        "\n",
        "plot_spectrum(spec1)\n",
        "plt.show()"
      ],
      "metadata": {
        "colab": {
          "base_uri": "https://localhost:8080/",
          "height": 448
        },
        "id": "Ag_Hx8oD8gZG",
        "outputId": "a0717fb8-a079-4d65-bc35-eb2acfdca6df"
      },
      "execution_count": 34,
      "outputs": [
        {
          "output_type": "display_data",
          "data": {
            "text/plain": [
              "<Figure size 640x480 with 1 Axes>"
            ],
            "image/png": "[encoded data removed]"
          },
          "metadata": {}
        }
      ]
    },
    {
      "cell_type": "code",
      "source": [
        "## Full Fragment Ion Mass Spectrum\n",
        "## We can also produce additional peaks in the fragment ion mass spectrum, such as isotopic peaks, precursor peaks,\n",
        "#ions from higher charge states, additional ion series, or common neutral losses\n",
        "spec2 = oms.MSSpectrum()\n",
        "# standard behavior is adding b- and y-ions\n",
        "p2 = oms.Param()\n",
        "p2.setValue(\"add_a_ions\", \"true\")\n",
        "# adding n-term ion (in this case, a1 and b1)\n",
        "p2.setValue(\"add_first_prefix_ion\", \"true\")\n",
        "p2.setValue(\"add_precursor_peaks\", \"true\")\n",
        "# standard is to add precursor peaks with only the largest charge\n",
        "p2.setValue(\"add_all_precursor_charges\", \"true\")\n",
        "p2.setValue(\"add_losses\", \"true\")\n",
        "p2.setValue(\"add_metainfo\", \"true\")\n",
        "tsg.setParameters(p2)\n",
        "tsg.getSpectrum(spec2, peptide, 1, 2)\n",
        "\n",
        "# Iterate over annotated ions and their masses\n",
        "print(\"Spectrum 2 of\", peptide, \"has\", spec2.size(), \"peaks.\")\n",
        "for ion, peak in zip(spec2.getStringDataArrays()[0], spec2):\n",
        "    print(ion.decode(), \"is generated at m/z\", peak.getMZ())\n",
        "\n",
        "exp = oms.MSExperiment()\n",
        "exp.addSpectrum(spec1)\n",
        "exp.addSpectrum(spec2)\n",
        "oms.MzMLFile().store(\"DFPIANGER.mzML\", exp)"
      ],
      "metadata": {
        "colab": {
          "base_uri": "https://localhost:8080/",
          "height": 0
        },
        "id": "rIqxn0vr8vnV",
        "outputId": "b873b5dc-8ab2-4f9f-b0e6-e3fd3ed1a8f2"
      },
      "execution_count": 35,
      "outputs": [
        {
          "output_type": "stream",
          "name": "stdout",
          "text": [
            "Spectrum 2 of DFPIANGER has 160 peaks.\n",
            "a1-H2O1++ is generated at m/z 35.518008514620995\n",
            "a1++ is generated at m/z 44.523291046520995\n",
            "b1-H2O1++ is generated at m/z 49.515466014621\n",
            "b1++ is generated at m/z 58.520748546521\n",
            "y1-C1H2N1O1++ is generated at m/z 66.05629515817103\n",
            "y1-C1H2N2++ is generated at m/z 67.05221565817102\n",
            "a1-H2O1+ is generated at m/z 70.02874056247099\n",
            "y1-H3N1++ is generated at m/z 79.54984014222102\n",
            "a1+ is generated at m/z 88.03930562627099\n",
            "y1++ is generated at m/z 88.06311469007102\n",
            "b1-H2O1+ is generated at m/z 98.02365556247099\n",
            "a2-H2O1++ is generated at m/z 109.05221565817098\n",
            "b1+ is generated at m/z 116.034220626271\n",
            "a2++ is generated at m/z 118.05749819007099\n",
            "b2-H2O1++ is generated at m/z 123.04967315817098\n",
            "y2-C1H2N1O1++ is generated at m/z 130.57759226982103\n",
            "y1-C1H2N1O1+ is generated at m/z 131.10531384957102\n",
            "y2-C1H2N2++ is generated at m/z 131.573512769821\n",
            "b2++ is generated at m/z 132.05495569007098\n",
            "y1-C1H2N2+ is generated at m/z 133.097154849571\n",
            "y2-H2O1++ is generated at m/z 143.579129269821\n",
            "y2-H3N1++ is generated at m/z 144.07113725387103\n",
            "y2++ is generated at m/z 152.58441180172102\n",
            "a3-H2O1++ is generated at m/z 157.57859776982096\n",
            "y1-H3N1+ is generated at m/z 158.092403817671\n",
            "y3-C1H2N1O1++ is generated at m/z 159.08832431767104\n",
            "y3-C1H2N2++ is generated at m/z 160.08424481767102\n",
            "a3++ is generated at m/z 166.58388030172097\n",
            "b3-H2O1++ is generated at m/z 171.57605526982096\n",
            "y3-H2O1++ is generated at m/z 172.08986131767102\n",
            "y3-H3N1++ is generated at m/z 172.58186930172104\n",
            "y1+ is generated at m/z 175.118952913371\n",
            "b3++ is generated at m/z 180.58133780172096\n",
            "y3++ is generated at m/z 181.09514384957103\n",
            "a4-H2O1++ is generated at m/z 214.12062994527096\n",
            "y4-C1H2N1O1++ is generated at m/z 216.10978841337104\n",
            "a2-H2O1+ is generated at m/z 217.09715484957098\n",
            "y4-C1H2N2++ is generated at m/z 217.10570891337102\n",
            "a4++ is generated at m/z 223.12591247717097\n",
            "b4-H2O1++ is generated at m/z 228.11808744527096\n",
            "y4-H2O1++ is generated at m/z 229.11132541337102\n",
            "y4-H3N1++ is generated at m/z 229.60333339742104\n",
            "a2+ is generated at m/z 235.107719913371\n",
            "b4++ is generated at m/z 237.12336997717097\n",
            "y4++ is generated at m/z 238.11660794527103\n",
            "b2-H2O1+ is generated at m/z 245.09206984957098\n",
            "a5-H2O1++ is generated at m/z 249.63918702502096\n",
            "y5-C1H2N1O1++ is generated at m/z 251.62834549312103\n",
            "y5-C1H2N2++ is generated at m/z 252.624265993121\n",
            "a5++ is generated at m/z 258.64446955692097\n",
            "y2-C1H2N1O1+ is generated at m/z 260.147908072871\n",
            "y2-C1H2N2+ is generated at m/z 262.139749072871\n",
            "b2+ is generated at m/z 263.102634913371\n",
            "b5-H2O1++ is generated at m/z 263.636644525021\n",
            "y5-H2O1++ is generated at m/z 264.62988249312104\n",
            "y5-H3N1++ is generated at m/z 265.121890477171\n",
            "b5++ is generated at m/z 272.64192705692096\n",
            "y5++ is generated at m/z 273.635165025021\n",
            "y2-H2O1+ is generated at m/z 286.150982072871\n",
            "y2-H3N1+ is generated at m/z 287.134998040971\n",
            "y2+ is generated at m/z 304.161547136671\n",
            "a6-H2O1++ is generated at m/z 306.660651120721\n",
            "a6-H3N1++ is generated at m/z 307.152659104771\n",
            "y6-C1H2N1O1++ is generated at m/z 308.170377668571\n",
            "y6-C1H2N2++ is generated at m/z 309.166298168571\n",
            "a3-H2O1+ is generated at m/z 314.149919072871\n",
            "a6++ is generated at m/z 315.665933652621\n",
            "y3-C1H2N1O1+ is generated at m/z 317.16937216857104\n",
            "y3-C1H2N2+ is generated at m/z 319.161213168571\n",
            "b6-H2O1++ is generated at m/z 320.658108620721\n",
            "b6-H3N1++ is generated at m/z 321.150116604771\n",
            "y6-H2O1++ is generated at m/z 321.17191466857105\n",
            "y6-H3N1++ is generated at m/z 321.663922652621\n",
            "b6++ is generated at m/z 329.663391152621\n",
            "y6++ is generated at m/z 330.177197200471\n",
            "a3+ is generated at m/z 332.160484136671\n",
            "a7-H2O1++ is generated at m/z 335.171383168571\n",
            "a7-H3N1++ is generated at m/z 335.663391152621\n",
            "b3-H2O1+ is generated at m/z 342.144834072871\n",
            "y3-H2O1+ is generated at m/z 343.172446168571\n",
            "y3-H3N1+ is generated at m/z 344.15646213667105\n",
            "a7++ is generated at m/z 344.176665700471\n",
            "b7-H2O1++ is generated at m/z 349.168840668571\n",
            "b7-H3N1++ is generated at m/z 349.660848652621\n",
            "y7-C1H2N1O1++ is generated at m/z 356.696759780221\n",
            "y7-C1H2N2++ is generated at m/z 357.692680280221\n",
            "b7++ is generated at m/z 358.174123200471\n",
            "b3+ is generated at m/z 360.155399136671\n",
            "y3+ is generated at m/z 361.18301123237103\n",
            "y7-H2O1++ is generated at m/z 369.698296780221\n",
            "y7-H3N1++ is generated at m/z 370.190304764271\n",
            "y7++ is generated at m/z 378.703579312121\n",
            "a8-H2O1++ is generated at m/z 399.692680280221\n",
            "a8-H3N1++ is generated at m/z 400.18468826427096\n",
            "a8++ is generated at m/z 408.697962812121\n",
            "b8-H2O1++ is generated at m/z 413.690137780221\n",
            "b8-H3N1++ is generated at m/z 414.18214576427096\n",
            "b8++ is generated at m/z 422.695420312121\n",
            "a4-H2O1+ is generated at m/z 427.233983423771\n",
            "y8-C1H2N1O1++ is generated at m/z 430.23096692377095\n",
            "y4-C1H2N1O1+ is generated at m/z 431.21230035997104\n",
            "y8-C1H2N2++ is generated at m/z 431.22688742377096\n",
            "y4-C1H2N2+ is generated at m/z 433.204141359971\n",
            "y8-H2O1++ is generated at m/z 443.232503923771\n",
            "y8-H3N1++ is generated at m/z 443.72451190782095\n",
            "a4+ is generated at m/z 445.244548487571\n",
            "y8++ is generated at m/z 452.23778645567097\n",
            "b4-H2O1+ is generated at m/z 455.228898423771\n",
            "y4-H2O1+ is generated at m/z 457.215374359971\n",
            "y4-H3N1+ is generated at m/z 458.19939032807105\n",
            "b4+ is generated at m/z 473.239463487571\n",
            "y4+ is generated at m/z 475.225939423771\n",
            "a5-H2O1+ is generated at m/z 498.271097583271\n",
            "[M+H]-H2O++ is generated at m/z 500.7459760035209\n",
            "[M+H]-NH3++ is generated at m/z 501.23798398757094\n",
            "y5-C1H2N1O1+ is generated at m/z 502.2494145194709\n",
            "y5-C1H2N2+ is generated at m/z 504.2412555194709\n",
            "[M+H]++ is generated at m/z 509.75125853542096\n",
            "a5+ is generated at m/z 516.281662647071\n",
            "b5-H2O1+ is generated at m/z 526.266012583271\n",
            "y5-H2O1+ is generated at m/z 528.252488519471\n",
            "y5-H3N1+ is generated at m/z 529.2365044875709\n",
            "b5+ is generated at m/z 544.276577647071\n",
            "y5+ is generated at m/z 546.2630535832709\n",
            "a6-H2O1+ is generated at m/z 612.3140257746711\n",
            "a6-H3N1+ is generated at m/z 613.298041742771\n",
            "y6-C1H2N1O1+ is generated at m/z 615.3334788703709\n",
            "y6-C1H2N2+ is generated at m/z 617.3253198703709\n",
            "a6+ is generated at m/z 630.3245908384711\n",
            "b6-H2O1+ is generated at m/z 640.3089407746711\n",
            "b6-H3N1+ is generated at m/z 641.292956742771\n",
            "y6-H2O1+ is generated at m/z 641.336552870371\n",
            "y6-H3N1+ is generated at m/z 642.3205688384709\n",
            "b6+ is generated at m/z 658.3195058384711\n",
            "y6+ is generated at m/z 659.3471179341709\n",
            "a7-H2O1+ is generated at m/z 669.3354898703711\n",
            "a7-H3N1+ is generated at m/z 670.3195058384711\n",
            "a7+ is generated at m/z 687.3460549341711\n",
            "b7-H2O1+ is generated at m/z 697.3304048703711\n",
            "b7-H3N1+ is generated at m/z 698.314420838471\n",
            "y7-C1H2N1O1+ is generated at m/z 712.3862430936708\n",
            "y7-C1H2N2+ is generated at m/z 714.3780840936709\n",
            "b7+ is generated at m/z 715.3409699341711\n",
            "y7-H2O1+ is generated at m/z 738.3893170936709\n",
            "y7-H3N1+ is generated at m/z 739.3733330617708\n",
            "y7+ is generated at m/z 756.3998821574709\n",
            "a8-H2O1+ is generated at m/z 798.3780840936711\n",
            "a8-H3N1+ is generated at m/z 799.362100061771\n",
            "a8+ is generated at m/z 816.388649157471\n",
            "b8-H2O1+ is generated at m/z 826.3729990936711\n",
            "b8-H3N1+ is generated at m/z 827.357015061771\n",
            "b8+ is generated at m/z 844.383564157471\n",
            "y8-C1H2N1O1+ is generated at m/z 859.4546573807708\n",
            "y8-C1H2N2+ is generated at m/z 861.4464983807708\n",
            "y8-H2O1+ is generated at m/z 885.4577313807708\n",
            "y8-H3N1+ is generated at m/z 886.4417473488708\n",
            "y8+ is generated at m/z 903.4682964445708\n",
            "[M+H]-H2O+ is generated at m/z 1000.4846755402709\n",
            "[M+H]-NH3+ is generated at m/z 1001.468691508371\n",
            "[M+H]+ is generated at m/z 1018.495240604071\n"
          ]
        }
      ]
    },
    {
      "cell_type": "code",
      "source": [
        "## above code outputs all 160 peaks that are generated (this is without isotopic peaks), here we will just show the first few peaks:\n",
        "## which you can again visualize with\n",
        "import matplotlib.pyplot as plt\n",
        "from pyopenms.plotting import plot_spectrum\n",
        "import matplotlib.pyplot as plt\n",
        "\n",
        "plot_spectrum(spec2, annotate_ions=False)\n",
        "plt.show()"
      ],
      "metadata": {
        "colab": {
          "base_uri": "https://localhost:8080/",
          "height": 448
        },
        "id": "GklZRWnN9Dtt",
        "outputId": "68bb6112-7a7e-48e9-ada6-3c280b07b21f"
      },
      "execution_count": 36,
      "outputs": [
        {
          "output_type": "display_data",
          "data": {
            "text/plain": [
              "<Figure size 640x480 with 1 Axes>"
            ],
            "image/png": "[encoded data removed]"
          },
          "metadata": {}
        }
      ]
    },
    {
      "cell_type": "markdown",
      "source": [
        "The first example shows how to put peaks of a certain type, y-ions in this case, into a mass spectrum. The second mass spectrum is filled with a complete fragment ion mass spectrum of all peaks (a-, b-, y-ions, precursor peaks, and losses)."
      ],
      "metadata": {
        "id": "zXQO0iGw9h2L"
      }
    },
    {
      "cell_type": "code",
      "source": [
        "##TASK 6 SIMPLE SEARCH\n",
        "##Go to https://pyopenms.readthedocs.io/en/latest/user_guide/peptide_search.html\n",
        "## In most proteomics applications, a dedicated search engine (such as Comet, Crux, Mascot, MSGFPlus, MSFragger, Myrimatch, OMSSA, SpectraST or XTandem;\n",
        "##all of which are supported by pyOpenMS) will be used to search data.\n",
        "##Here, we will use the internal SimpleSearchEngineAlgorithm from OpenMS used for teaching purposes.\n",
        "##This makes it very easy to search an (experimental) mzML file against a fasta database of protein sequences:\n",
        "from urllib.request import urlretrieve\n",
        "import pyopenms as oms\n",
        "\n",
        "# Downloading the required files\n",
        "gh = \"https://raw.githubusercontent.com/OpenMS/pyopenms-docs/master\"\n",
        "urlretrieve(gh + \"/src/data/SimpleSearchEngine_1.mzML\", \"searchfile.mzML\")\n",
        "urlretrieve(gh + \"/src/data/SimpleSearchEngine_1.fasta\", \"search.fasta\")\n",
        "\n",
        "# Running the SimpleSearchEngineAlgorithm\n",
        "protein_ids = []\n",
        "peptide_ids = []\n",
        "oms.SimpleSearchEngineAlgorithm().search(\"searchfile.mzML\", \"search.fasta\", protein_ids, peptide_ids)\n",
        "\n",
        "# Function to extract and display statistics\n",
        "def display_peptide_statistics(peptide_ids):\n",
        "    unmatched = 0\n",
        "    match_target_only = 0\n",
        "    match_decoy_only = 0\n",
        "    match_both = 0\n",
        "\n",
        "    for peptide_id in peptide_ids:\n",
        "        for hit in peptide_id.getHits():\n",
        "            target_decoy = hit.getMetaValue(\"target_decoy\")\n",
        "            if target_decoy == \"target\":\n",
        "                match_target_only += 1\n",
        "            elif target_decoy == \"decoy\":\n",
        "                match_decoy_only += 1\n",
        "            else:\n",
        "                unmatched += 1\n",
        "\n",
        "    total = len(peptide_ids)\n",
        "    if total > 0:\n",
        "        print(\"Peptide statistics:\")\n",
        "        print(f\"  unmatched                : {unmatched} ({unmatched / total * 100:.2f} %)\")\n",
        "        print(f\"  target/decoy:\")\n",
        "        print(f\"    match to target DB only: {match_target_only} ({match_target_only / total * 100:.2f} %)\")\n",
        "        print(f\"    match to decoy DB only : {match_decoy_only} ({match_decoy_only / total * 100:.2f} %)\")\n",
        "        print(f\"    match to both          : {match_both} ({match_both / total * 100:.2f} %)\")\n",
        "\n",
        "# Displaying the statistics\n",
        "display_peptide_statistics(peptide_ids)\n",
        "\n",
        "\n",
        "\n"
      ],
      "metadata": {
        "colab": {
          "base_uri": "https://localhost:8080/",
          "height": 0
        },
        "id": "hZ56eq_99lWo",
        "outputId": "0a16aff0-997d-4490-fb59-6301cd7a6f94"
      },
      "execution_count": 42,
      "outputs": [
        {
          "output_type": "stream",
          "name": "stdout",
          "text": [
            "Peptide statistics:\n",
            "  unmatched                : 0 (0.00 %)\n",
            "  target/decoy:\n",
            "    match to target DB only: 3 (100.00 %)\n",
            "    match to decoy DB only : 0 (0.00 %)\n",
            "    match to both          : 0 (0.00 %)\n"
          ]
        }
      ]
    },
    {
      "cell_type": "code",
      "source": [
        "##Investigate PSMs\n",
        "for peptide_id in peptide_ids:\n",
        "    # Peptide identification values\n",
        "    print(35 * \"=\")\n",
        "    print(\"Peptide ID m/z:\", peptide_id.getMZ())\n",
        "    print(\"Peptide ID rt:\", peptide_id.getRT())\n",
        "    print(\"Peptide scan index:\", peptide_id.getMetaValue(\"scan_index\"))\n",
        "    print(\"Peptide scan name:\", peptide_id.getMetaValue(\"scan_index\"))\n",
        "    print(\"Peptide ID score type:\", peptide_id.getScoreType())\n",
        "    # PeptideHits\n",
        "    for hit in peptide_id.getHits():\n",
        "        print(\" - Peptide hit rank:\", hit.getRank())\n",
        "        print(\" - Peptide hit charge:\", hit.getCharge())\n",
        "        print(\" - Peptide hit sequence:\", hit.getSequence())\n",
        "        mz = (\n",
        "            hit.getSequence().getMonoWeight(\n",
        "                oms.Residue.ResidueType.Full, hit.getCharge()\n",
        "            )\n",
        "            / hit.getCharge()\n",
        "        )\n",
        "        print(\" - Peptide hit monoisotopic m/z:\", mz)\n",
        "        print(\n",
        "            \" - Peptide ppm error:\", abs(mz - peptide_id.getMZ()) / mz * 10**6\n",
        "        )\n",
        "        print(\" - Peptide hit score:\", hit.getScore())"
      ],
      "metadata": {
        "colab": {
          "base_uri": "https://localhost:8080/",
          "height": 0
        },
        "id": "jyL0tM92Bbx4",
        "outputId": "9815b526-8960-4599-c88a-bf69211dbf31"
      },
      "execution_count": 43,
      "outputs": [
        {
          "output_type": "stream",
          "name": "stdout",
          "text": [
            "===================================\n",
            "Peptide ID m/z: 520.262817382812\n",
            "Peptide ID rt: 2655.095703125\n",
            "Peptide scan index: 0\n",
            "Peptide scan name: 0\n",
            "Peptide ID score type: hyperscore\n",
            " - Peptide hit rank: 1\n",
            " - Peptide hit charge: 3\n",
            " - Peptide hit sequence: DFASSGGYVLHLHR\n",
            " - Peptide hit monoisotopic m/z: 520.2635538953376\n",
            " - Peptide ppm error: 1.4156527399679193\n",
            " - Peptide hit score: 16.84163475036621\n",
            "===================================\n",
            "Peptide ID m/z: 1063.20983886719\n",
            "Peptide ID rt: 4587.6689453125\n",
            "Peptide scan index: 1\n",
            "Peptide scan name: 1\n",
            "Peptide ID score type: hyperscore\n",
            " - Peptide hit rank: 1\n",
            " - Peptide hit charge: 3\n",
            " - Peptide hit sequence: IALSRPNVEVVALNDPFITNDYAAYM(Oxidation)FK\n",
            " - Peptide hit monoisotopic m/z: 1063.2092724146712\n",
            " - Peptide ppm error: 0.5327761274224441\n",
            " - Peptide hit score: 42.21834182739258\n",
            "===================================\n",
            "Peptide ID m/z: 775.38720703125\n",
            "Peptide ID rt: 4923.77734375\n",
            "Peptide scan index: 2\n",
            "Peptide scan name: 2\n",
            "Peptide ID score type: hyperscore\n",
            " - Peptide hit rank: 1\n",
            " - Peptide hit charge: 3\n",
            " - Peptide hit sequence: RPGADSDIGGFGGLFDLAQAGFR\n",
            " - Peptide hit monoisotopic m/z: 775.3854614376374\n",
            " - Peptide ppm error: 2.2512591470542094\n",
            " - Peptide hit score: 34.93666076660156\n"
          ]
        }
      ]
    },
    {
      "cell_type": "code",
      "source": [
        "tsg = oms.TheoreticalSpectrumGenerator()\n",
        "thspec = oms.MSSpectrum()\n",
        "p = oms.Param()\n",
        "p.setValue(\"add_metainfo\", \"true\")\n",
        "tsg.setParameters(p)\n",
        "peptide = oms.AASequence.fromString(\"RPGADSDIGGFGGLFDLAQAGFR\")\n",
        "tsg.getSpectrum(thspec, peptide, 1, 1)\n",
        "# Iterate over annotated ions and their masses\n",
        "for ion, peak in zip(thspec.getStringDataArrays()[0], thspec):\n",
        "    print(ion, peak.getMZ())\n",
        "\n",
        "e = oms.MSExperiment()\n",
        "oms.MzMLFile().load(\"searchfile.mzML\", e)\n",
        "print(\"Spectrum native id\", e[2].getNativeID())\n",
        "mz, i = e[2].get_peaks()\n",
        "peaks = [(mz, i) for mz, i in zip(mz, i) if i > 1500 and mz > 300]\n",
        "for peak in peaks:\n",
        "    print(peak[0], \"mz\", peak[1], \"int\")"
      ],
      "metadata": {
        "colab": {
          "base_uri": "https://localhost:8080/",
          "height": 0
        },
        "id": "VKKXj4iE-Ql1",
        "outputId": "441aae39-ab9c-43b0-bd81-834dbc0eac2b"
      },
      "execution_count": 44,
      "outputs": [
        {
          "output_type": "stream",
          "name": "stdout",
          "text": [
            "b'y1+' 175.118952913371\n",
            "b'b2+' 254.161152072871\n",
            "b'b3+' 311.18261616857103\n",
            "b'y2+' 322.187367200471\n",
            "b'y3+' 379.208831296171\n",
            "b'b4+' 382.219730328071\n",
            "b'y4+' 450.245945455671\n",
            "b'b5+' 497.246674487571\n",
            "b'y5+' 578.304523710871\n",
            "b'b6+' 584.278703647071\n",
            "b'y6+' 649.341637870371\n",
            "b'b7+' 699.305647806571\n",
            "b'y7+' 762.425702221271\n",
            "b'b8+' 812.389712157471\n",
            "b'b9+' 869.411176253171\n",
            "b'y8+' 877.452646380771\n",
            "b'b10+' 926.432640348871\n",
            "b'y9+' 1024.5210606678709\n",
            "b'b11+' 1073.501054635971\n",
            "b'b12+' 1130.522518731671\n",
            "b'y10+' 1137.6051250187709\n",
            "b'b13+' 1187.5439828273709\n",
            "b'y11+' 1194.6265891144708\n",
            "b'y12+' 1251.6480532101707\n",
            "b'b14+' 1300.628047178271\n",
            "b'y13+' 1398.7164674972707\n",
            "b'b15+' 1447.696461465371\n",
            "b'y14+' 1455.7379315929707\n",
            "b'y15+' 1512.7593956886706\n",
            "b'b16+' 1562.723405624871\n",
            "b'y16+' 1625.8434600395706\n",
            "b'b17+' 1675.807469975771\n",
            "b'y17+' 1740.8704041990707\n",
            "b'b18+' 1746.844584135271\n",
            "b'y18+' 1827.9024333585708\n",
            "b'b19+' 1874.903162390471\n",
            "b'y19+' 1942.9293775180709\n",
            "b'b20+' 1945.9402765499708\n",
            "b'b21+' 2002.9617406456707\n",
            "b'y20+' 2013.9664916775707\n",
            "b'y21+' 2070.987955773271\n",
            "b'b22+' 2150.0301549327705\n",
            "b'y22+' 2168.040719996571\n",
            "Spectrum native id spectrum=2\n",
            "877.4534301757812 mz 1753.01 int\n",
            "926.434326171875 mz 1639.3121 int\n",
            "1024.5223388671875 mz 2204.35 int\n",
            "1187.544189453125 mz 1774.3148 int\n"
          ]
        }
      ]
    },
    {
      "cell_type": "markdown",
      "source": [
        "Comparing the theoretical and the experimental mass spectrum for RPGADSDIGGFGGLFDLAQAGFR we can easily see that the most abundant ions are y8, b10, y9 and b13.\n"
      ],
      "metadata": {
        "id": "axmxrqI1Ef7Z"
      }
    },
    {
      "cell_type": "code",
      "source": [],
      "metadata": {
        "id": "lj9bJph8E5vz"
      },
      "execution_count": null,
      "outputs": []
    }
  ]
}